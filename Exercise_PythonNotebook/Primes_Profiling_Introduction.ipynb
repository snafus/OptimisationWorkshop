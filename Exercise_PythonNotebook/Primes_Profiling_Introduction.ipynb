{
 "cells": [
  {
   "cell_type": "markdown",
   "id": "170279c9",
   "metadata": {},
   "source": [
    "# Introduction to interactive python profiling"
   ]
  },
  {
   "cell_type": "markdown",
   "id": "858e5a17",
   "metadata": {},
   "source": [
    "The following notebook will provide a few examples on methods and tools to help profile your python code.\n",
    "This will help to find bottlenecks and calls which can be optimised."
   ]
  },
  {
   "cell_type": "markdown",
   "id": "4faf383d",
   "metadata": {},
   "source": [
    "### Prerequisites"
   ]
  },
  {
   "cell_type": "code",
   "execution_count": null,
   "id": "4258b648",
   "metadata": {},
   "outputs": [],
   "source": [
    "!pip install line_profiler numba memory_profiler"
   ]
  },
  {
   "cell_type": "code",
   "execution_count": null,
   "id": "22143c64",
   "metadata": {},
   "outputs": [],
   "source": [
    "# For using lprof\n",
    "%load_ext line_profiler"
   ]
  },
  {
   "cell_type": "code",
   "execution_count": null,
   "id": "c2347548",
   "metadata": {},
   "outputs": [],
   "source": [
    "# For using memit and mprun\n",
    "%load_ext memory_profiler"
   ]
  },
  {
   "cell_type": "markdown",
   "id": "2ba70a3a",
   "metadata": {},
   "source": [
    "### Functions\n",
    "A few functions that we'll be testing later in the code"
   ]
  },
  {
   "cell_type": "code",
   "execution_count": null,
   "id": "2e0a981e",
   "metadata": {},
   "outputs": [],
   "source": [
    "def sum_of_numbers(max_value):\n",
    "    \"\"\"Sum of integers from 1 to max_value (excluding max_value)\"\"\"\n",
    "    _sum=0\n",
    "    for i in range(1,max_value):\n",
    "        _sum += i\n",
    "    return _sum"
   ]
  },
  {
   "cell_type": "code",
   "execution_count": null,
   "id": "7d030e63",
   "metadata": {},
   "outputs": [],
   "source": [
    "def is_prime(n):\n",
    "    \"\"\"Simplest method to determine if a number has any factors\"\"\"\n",
    "    for i in range(2,n):\n",
    "        if (n%i == 0):\n",
    "            return False\n",
    "\n",
    "    return True\n",
    "\n",
    "def count_primes(n):\n",
    "    \"\"\"Return a list of primes found for integer n\"\"\"\n",
    "    primes = []\n",
    "    for i in range(2,n):\n",
    "        if is_prime(i) :\n",
    "            primes.append(i)\n",
    "    return primes\n"
   ]
  },
  {
   "cell_type": "code",
   "execution_count": null,
   "id": "2abb0594",
   "metadata": {},
   "outputs": [],
   "source": []
  },
  {
   "cell_type": "code",
   "execution_count": null,
   "id": "0503ebbe",
   "metadata": {},
   "outputs": [],
   "source": []
  },
  {
   "cell_type": "markdown",
   "id": "63383c53",
   "metadata": {},
   "source": [
    "## Timing"
   ]
  },
  {
   "cell_type": "markdown",
   "id": "25bf0f7d",
   "metadata": {},
   "source": [
    "The simplest way to start profiling is just to measure the time a function (or cell) takes to run. \n",
    "Then, you can start to delve deeper"
   ]
  },
  {
   "cell_type": "code",
   "execution_count": null,
   "id": "3cf8ac1b",
   "metadata": {},
   "outputs": [],
   "source": [
    "MAX_VAL=1000000"
   ]
  },
  {
   "cell_type": "code",
   "execution_count": null,
   "id": "8e98b9ec",
   "metadata": {},
   "outputs": [],
   "source": [
    "%time sum_of_numbers(MAX_VAL)"
   ]
  },
  {
   "cell_type": "code",
   "execution_count": null,
   "id": "18cf9795",
   "metadata": {},
   "outputs": [],
   "source": [
    "%time sum(range(MAX_VAL))"
   ]
  },
  {
   "cell_type": "markdown",
   "id": "855665f8",
   "metadata": {},
   "source": [
    "### Thoughts\n",
    "  - Try to use inbuilt functions, when they exist. \n",
    "  - Use profiling to understand if / when they do provide a performance boost.\n",
    "  - Consider refactoring your code/algorithm in terms of inbuilt functions."
   ]
  },
  {
   "cell_type": "markdown",
   "id": "6cf0b359",
   "metadata": {},
   "source": [
    "Single point estimators may not capture the typical behaviour. use _timeit_ to run a number of trials over your function:\n",
    "  - Provides a more quantified estimate of your functions runtime\n",
    "  - Default options will run more/or fewer trials depending on the runtime of the calls"
   ]
  },
  {
   "cell_type": "code",
   "execution_count": null,
   "id": "39cff5a3",
   "metadata": {},
   "outputs": [],
   "source": [
    "%%timeit\n",
    "sum_of_numbers(MAX_VAL)"
   ]
  },
  {
   "cell_type": "code",
   "execution_count": null,
   "id": "c43606e2",
   "metadata": {},
   "outputs": [],
   "source": [
    "%%timeit\n",
    "sum(range(MAX_VAL))"
   ]
  },
  {
   "cell_type": "markdown",
   "id": "e5f687f6",
   "metadata": {},
   "source": [
    "### Thoughts\n",
    "Look at the numbers for the timings above and compare _timeit_ to _time_. \n",
    "Probably, you see that the calls in _timeit_ are faster than _time_. \n",
    "This is because _timeit_ is clever and attempts to limit various system calls which might affect the timing.\n",
    "\n",
    "For longer running tasks, where fluctations are less relevant, _time_ can be the better measure."
   ]
  },
  {
   "cell_type": "markdown",
   "id": "cdc61059",
   "metadata": {},
   "source": [
    "# Primes"
   ]
  },
  {
   "cell_type": "markdown",
   "id": "f6130f78",
   "metadata": {},
   "source": [
    "Lets consider the example of finding all the prime factors of some number.\n",
    "We'll go through a few of the simple steps to test and see if we can analyse the slowest / most memory consuming parts of the code, and perhaps see how to improve it."
   ]
  },
  {
   "cell_type": "markdown",
   "id": "f5c3ee14",
   "metadata": {},
   "source": [
    "### Correctness\n",
    "Lets first convince ourselves that the functions appear to be correct"
   ]
  },
  {
   "cell_type": "code",
   "execution_count": null,
   "id": "adb175be",
   "metadata": {},
   "outputs": [],
   "source": [
    "for i in range(0,10):\n",
    "    print (f'n: {i} found primes: {count_primes(i)}')"
   ]
  },
  {
   "cell_type": "markdown",
   "id": "e6d72010",
   "metadata": {},
   "source": [
    "The above test is sufficient to believe it is not totally wrong. \n",
    "Let's formalise this a bit more, with some harder examples, and a unit test.\n",
    "(note there are several other ways to do this; some using more notebook-based magic functions)"
   ]
  },
  {
   "cell_type": "code",
   "execution_count": null,
   "id": "7572a075",
   "metadata": {},
   "outputs": [],
   "source": [
    "import unittest\n",
    "\n",
    "class TestPrimes(unittest.TestCase):\n",
    "    def test_1(self):\n",
    "        self.assertEqual(count_primes(1), [])\n",
    "\n",
    "    def test_3(self):\n",
    "        self.assertEqual(count_primes(3), [2])\n",
    "\n",
    "    def test_8(self):\n",
    "        self.assertEqual(count_primes(8), [2,3,5,7])\n",
    "\n",
    "    def test_9(self):\n",
    "        self.assertEqual(count_primes(9), [2,3,5,7])\n",
    "    \n",
    "    def test_count_10k(self):\n",
    "        #https://primes.utm.edu/howmany.html \n",
    "        self.assertEqual(len(count_primes(10000)), 1229 )\n",
    "\n",
    "\n",
    "    def test_float(self):\n",
    "        # check we error on non-interger number\n",
    "        self.assertRaises(TypeError, count_primes, 5.5)\n",
    "    \n",
    "unittest.main(argv=[''], verbosity=2, exit=False);"
   ]
  },
  {
   "cell_type": "markdown",
   "id": "e2a7b185",
   "metadata": {},
   "source": [
    "Assuming we believe that the above unittests are sufficient (for now) to trust the correctness of the algorithm, lets carry on and try to profile it."
   ]
  },
  {
   "cell_type": "markdown",
   "id": "50cb198f",
   "metadata": {},
   "source": [
    "## Profiling"
   ]
  },
  {
   "cell_type": "markdown",
   "id": "c7b87689",
   "metadata": {},
   "source": [
    "Let's get a feeling for the expected speeds, and perhaps how one might consider it scaling for larger numbers"
   ]
  },
  {
   "cell_type": "code",
   "execution_count": null,
   "id": "bc352118",
   "metadata": {},
   "outputs": [],
   "source": [
    "%time p = count_primes(10);\n",
    "%time p = count_primes(100);\n",
    "%time p = count_primes(1000);\n",
    "%time p = count_primes(10000);"
   ]
  },
  {
   "cell_type": "markdown",
   "id": "dff045d7",
   "metadata": {},
   "source": [
    "While _fast enough_ for small n, clearly this is not optimimal for larger n. Let's see where the time is spent."
   ]
  },
  {
   "cell_type": "code",
   "execution_count": null,
   "id": "0414cbe0",
   "metadata": {},
   "outputs": [],
   "source": [
    "pp = %lprun -r  -f count_primes -f is_prime count_primes(10000)\n",
    "# if you want to printo out the stats:\n",
    "pp.print_stats()"
   ]
  },
  {
   "cell_type": "markdown",
   "id": "96a4a478",
   "metadata": {},
   "source": [
    "From the output we see that almost all the time is spent in the _is_prime_ function, and within the function the time is approximately evenly split between the loop, and the test of divisibility. \n",
    "\n",
    "\n",
    "### Try:\n",
    "Perhaps already you can think of some _simple_ changes to the slowest parts of the code to make some reasonable speed improvements?\n",
    "  - See if you can make some changes to the code to speed up the time. \n",
    "  - Make a note of the change, and the speed improvements\n",
    "  - Optional (plot the time taken as a function of n, for different versions of the algorithm)\n",
    "  - *Remember* Use the unittests (and improve them if needed) to verify the correctness of any changes, before profiling\n"
   ]
  },
  {
   "cell_type": "code",
   "execution_count": null,
   "id": "bdb9deb3",
   "metadata": {},
   "outputs": [],
   "source": [
    "# Use these cells to try and make any changes to the code above and run any profiling."
   ]
  },
  {
   "cell_type": "code",
   "execution_count": null,
   "id": "2b6a1e15",
   "metadata": {},
   "outputs": [],
   "source": []
  },
  {
   "cell_type": "markdown",
   "id": "6f86974b",
   "metadata": {},
   "source": [
    "### Memory profile\n",
    "It's not just clock cycles that are important; intelligent use of memory can also avoid bottlenecks / breaking of code "
   ]
  },
  {
   "cell_type": "code",
   "execution_count": null,
   "id": "991b22c7",
   "metadata": {},
   "outputs": [],
   "source": [
    "%memit p = count_primes(10);\n",
    "%memit p = count_primes(10000);\n",
    "%memit p = count_primes(30000);"
   ]
  },
  {
   "cell_type": "markdown",
   "id": "f670c95c",
   "metadata": {},
   "source": [
    "We see that the memory is reasonably constant with (smallist) n, but is also over 100MB (in my case). \n",
    "We can profile the functions to see where this memory is allocated.\n",
    "Unfortunately - for this to happen, we need put the code into it's own module, in order for _mprun_ to work"
   ]
  },
  {
   "cell_type": "code",
   "execution_count": null,
   "id": "81be60e7",
   "metadata": {},
   "outputs": [],
   "source": [
    "%%file mprun_primes.py\n",
    "\n",
    "def is_prime(n):\n",
    "    \"\"\"Simplest method to determine if a number has any factors\"\"\"\n",
    "    for i in range(2,n):\n",
    "        if (n%i == 0):\n",
    "            return False\n",
    "\n",
    "    return True\n",
    "\n",
    "def count_primes(n):\n",
    "    \"\"\"Return a list of primes found for integer n\"\"\"\n",
    "    primes = []\n",
    "    for i in range(2,n):\n",
    "        if is_prime(i) :\n",
    "            primes.append(i)\n",
    "    return primes\n",
    "\n"
   ]
  },
  {
   "cell_type": "code",
   "execution_count": null,
   "id": "169ef8c1",
   "metadata": {},
   "outputs": [],
   "source": [
    "import mprun_primes\n",
    "import importlib\n",
    "importlib.reload(mprun_primes)\n",
    "from mprun_primes import count_primes,is_prime\n",
    "#enable module reloading in case of changing the algorithm\n"
   ]
  },
  {
   "cell_type": "code",
   "execution_count": null,
   "id": "4cb83e43",
   "metadata": {},
   "outputs": [],
   "source": [
    "%mprun -f count_primes -f is_prime count_primes(1000)"
   ]
  },
  {
   "cell_type": "markdown",
   "id": "9dfcd7d9",
   "metadata": {},
   "source": [
    "As this example is not particualrly exceisvie on memory, _optionally_ you might wish to see if better memory usage can be made (an obvious example might be to consider array, or numpy for example)"
   ]
  },
  {
   "cell_type": "markdown",
   "id": "0ce659cd",
   "metadata": {},
   "source": [
    "### Compiling code\n",
    "While python is an interpreted language, calls can be made to code that has been compiled, potentially allowing for cpu optimisations. \n",
    "Code written in c++ (for example) can be made to provide python bindings, but this is not so trivial to do.\n",
    "\n",
    "Fortunately packages exist (like numbaa) that can help in compiling the code you write in python\n",
    "\n",
    "Let's write our two functions again, but this time, use the numba decorator _jit_ to get compiled versions of your code."
   ]
  },
  {
   "cell_type": "code",
   "execution_count": null,
   "id": "c62218c2",
   "metadata": {},
   "outputs": [],
   "source": [
    "from numba import jit\n",
    "# Use numba to compile the code \n",
    "\n",
    "@jit(nopython=True)\n",
    "def is_prime_jit(n):\n",
    "    \"\"\"Simplest method to determine if a number has any factors\"\"\"\n",
    "    for i in range(2,n):\n",
    "        if (n%i == 0):\n",
    "            return False\n",
    "\n",
    "    return True\n",
    "\n",
    "@jit(nopython=True)\n",
    "def count_primes_jit(n):\n",
    "    \"\"\"Return a list of primes found for integer n\"\"\"\n",
    "    primes = []\n",
    "    for i in range(2,n):\n",
    "        if is_prime_jit(i) :\n",
    "            primes.append(i)\n",
    "    return primes\n"
   ]
  },
  {
   "cell_type": "markdown",
   "id": "cd3c65bf",
   "metadata": {},
   "source": [
    "Now let's run the simple profile tests again"
   ]
  },
  {
   "cell_type": "code",
   "execution_count": null,
   "id": "8a61fb68",
   "metadata": {},
   "outputs": [],
   "source": [
    "%time p = count_primes_jit(10);\n",
    "%time p = count_primes_jit(100);\n",
    "%time p = count_primes_jit(1000);\n",
    "%time p = count_primes_jit(10000);\n",
    "%time p = count_primes_jit(100000);"
   ]
  },
  {
   "cell_type": "markdown",
   "id": "5692a750",
   "metadata": {},
   "source": [
    "Hopefully you observe a significant speedup.\n",
    " - The first time you run the method, there is an overhead in compiling the code\n",
    " - Note, that profiling on a per-line basis e.g. with lprun no longer returns useful values"
   ]
  },
  {
   "cell_type": "markdown",
   "id": "44cb5446",
   "metadata": {},
   "source": [
    "#### Try:\n",
    " - Optional - consider thinking about the problem and making any further changes to how the code might run. \n",
    " - Optional - how do you expect / understand the time to scale with n"
   ]
  },
  {
   "cell_type": "markdown",
   "id": "a4ea2e74",
   "metadata": {},
   "source": [
    "### Changing Algorithm\n",
    "As mentioned in the lecture, at some point, the largest gains are likely to be made from changing the algorithm itself.\n",
    "Below are two versions available from https://stackoverflow.com/questions/2068372/fastest-way-to-list-all-primes-below- which have had significant effort made to be optimal, without using tools outside of standard python. \n",
    "\n",
    "Lets see how they perform ... "
   ]
  },
  {
   "cell_type": "code",
   "execution_count": null,
   "id": "2f4d0fe9",
   "metadata": {},
   "outputs": [],
   "source": [
    "#source: https://stackoverflow.com/questions/2068372/fastest-way-to-list-all-primes-below-n\n",
    "from itertools import compress\n",
    "\n",
    "def rwh_primes1v1(n):\n",
    "    \"\"\" Returns  a list of primes < n for n > 2 \"\"\"\n",
    "    sieve = bytearray([True]) * (n//2)\n",
    "    for i in range(3,int(n**0.5)+1,2):\n",
    "        if sieve[i//2]:\n",
    "            sieve[i*i//2::i] = bytearray((n-i*i-1)//(2*i)+1)\n",
    "    return [2,*compress(range(3,n,2), sieve[1:])]\n",
    "\n",
    "def rwh_primes1v2(n):\n",
    "    \"\"\" Returns a list of primes < n for n > 2 \"\"\"\n",
    "    sieve = bytearray([True]) * (n//2+1)\n",
    "    for i in range(1,int(n**0.5)//2+1):\n",
    "        if sieve[i]:\n",
    "            sieve[2*i*(i+1)::2*i+1] = bytearray((n//2-2*i*(i+1))//(2*i+1)+1)\n",
    "    return [2,*compress(range(3,n,2), sieve[1:])]\n"
   ]
  },
  {
   "cell_type": "code",
   "execution_count": null,
   "id": "3e4e91c1",
   "metadata": {},
   "outputs": [],
   "source": [
    "MAX_PRIMES=100000"
   ]
  },
  {
   "cell_type": "code",
   "execution_count": null,
   "id": "b2816c5c",
   "metadata": {},
   "outputs": [],
   "source": [
    "%time primes_basic = count_primes(MAX_PRIMES)"
   ]
  },
  {
   "cell_type": "code",
   "execution_count": null,
   "id": "6d7ac766",
   "metadata": {},
   "outputs": [],
   "source": [
    "%time primes_1v1 = rwh_primes1v1(MAX_PRIMES)"
   ]
  },
  {
   "cell_type": "code",
   "execution_count": null,
   "id": "2b5a5e40",
   "metadata": {},
   "outputs": [],
   "source": [
    "%time primes_1v2 = rwh_primes1v2(MAX_PRIMES)"
   ]
  },
  {
   "cell_type": "code",
   "execution_count": null,
   "id": "bbdabe3a",
   "metadata": {},
   "outputs": [],
   "source": [
    "%time primes_jit = count_primes_jit(MAX_PRIMES)"
   ]
  },
  {
   "cell_type": "markdown",
   "id": "f67d3401",
   "metadata": {},
   "source": [
    "Did we test for Correctness ? \n",
    "\n",
    "We can use our existing code for comparison. \n",
    "\n",
    "Would these new functions pass our unittests above? Think, and _optionally_ try to create/run the same unittest for these new functions. \n",
    "  - what would be needed, and what's the performance overhead to ensure identical outputs?"
   ]
  },
  {
   "cell_type": "code",
   "execution_count": null,
   "id": "8f5b1a95",
   "metadata": {},
   "outputs": [],
   "source": [
    "print(set(primes_1v1) == set(primes_1v2))\n",
    "print(set(primes_basic) == set(primes_jit))\n",
    "print(set(primes_basic) == set(primes_1v1))"
   ]
  },
  {
   "cell_type": "markdown",
   "id": "43dcbd5d",
   "metadata": {},
   "source": [
    "While we have only touched the surface, on a very broad and detail topic; hopefully you now have a basic understanding of some of the tools that can be quickly used to profile your own functions in python. \n",
    "\n",
    "Experiment with profiling whenever you have a slow function, and consider tests to help keep your code bug-free."
   ]
  },
  {
   "cell_type": "markdown",
   "id": "beaa7a42",
   "metadata": {},
   "source": [
    "Thanks for making it this far!"
   ]
  },
  {
   "cell_type": "code",
   "execution_count": null,
   "id": "36aa2371",
   "metadata": {},
   "outputs": [],
   "source": []
  }
 ],
 "metadata": {
  "kernelspec": {
   "display_name": "Python 3 (ipykernel)",
   "language": "python",
   "name": "python3"
  },
  "language_info": {
   "codemirror_mode": {
    "name": "ipython",
    "version": 3
   },
   "file_extension": ".py",
   "mimetype": "text/x-python",
   "name": "python",
   "nbconvert_exporter": "python",
   "pygments_lexer": "ipython3",
   "version": "3.7.11"
  }
 },
 "nbformat": 4,
 "nbformat_minor": 5
}
